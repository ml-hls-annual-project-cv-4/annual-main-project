{
 "cells": [
  {
   "cell_type": "code",
   "execution_count": 1,
   "metadata": {
    "collapsed": true,
    "ExecuteTime": {
     "start_time": "2023-05-09T18:19:32.193857Z",
     "end_time": "2023-05-09T18:19:32.251856Z"
    }
   },
   "outputs": [],
   "source": [
    "%reload_ext autoreload\n",
    "%autoreload 2"
   ]
  },
  {
   "cell_type": "code",
   "execution_count": 2,
   "outputs": [],
   "source": [
    "from src.data_access_layer.json_services.dataset_loader import DatasetLoader\n",
    "from typing import List\n",
    "\n",
    "import os\n",
    "import pandas as pd\n",
    "from PIL import Image\n",
    "from tqdm.notebook import tqdm"
   ],
   "metadata": {
    "collapsed": false,
    "ExecuteTime": {
     "start_time": "2023-05-09T18:19:32.252858Z",
     "end_time": "2023-05-09T18:19:32.786858Z"
    }
   }
  },
  {
   "cell_type": "code",
   "execution_count": 3,
   "outputs": [],
   "source": [
    "dataset_folder = os.path.join('..', '..', '..', '..', 'datasets')  #указать свой путь\n",
    "temp_dataset_folder = \"E:\\\\temp\\\\datasets\"  #указать свой путь\n",
    "\n",
    "saving_train_dataset_folder = os.path.join(temp_dataset_folder, 'train')\n",
    "saving_val_dataset_folder = os.path.join(temp_dataset_folder, 'val')\n",
    "\n",
    "labels_folder = os.path.join(dataset_folder, 'labels')\n",
    "images_folder = os.path.join(dataset_folder, 'images')\n",
    "\n",
    "train_images_folder = os.path.join(images_folder, 'train')\n",
    "val_images_folder = os.path.join(images_folder, 'val')\n",
    "\n",
    "train_dataset_path = os.path.join(labels_folder, 'bdd100k_labels_images_train.json')\n",
    "val_dataset_path = os.path.join(labels_folder, 'bdd100k_labels_images_val.json')"
   ],
   "metadata": {
    "collapsed": false,
    "ExecuteTime": {
     "start_time": "2023-05-09T18:19:32.787359Z",
     "end_time": "2023-05-09T18:19:32.858858Z"
    }
   }
  },
  {
   "cell_type": "code",
   "execution_count": 4,
   "outputs": [
    {
     "name": "stdout",
     "output_type": "stream",
     "text": [
      "Read raw data...\n",
      "Reading is done\n",
      "Prepare labels dataset...\n",
      "Preparation labels is done\n",
      "Prepare images metadata...\n",
      "Preparation images metadata is done\n",
      "Read raw data...\n",
      "Reading is done\n",
      "Prepare labels dataset...\n",
      "Preparation labels is done\n",
      "Prepare images metadata...\n",
      "Preparation images metadata is done\n"
     ]
    }
   ],
   "source": [
    "train_dataset_loader = DatasetLoader(train_dataset_path)\n",
    "val_dataset_loader = DatasetLoader(val_dataset_path)"
   ],
   "metadata": {
    "collapsed": false,
    "ExecuteTime": {
     "start_time": "2023-05-09T18:19:32.872860Z",
     "end_time": "2023-05-09T18:19:53.449856Z"
    }
   }
  },
  {
   "cell_type": "code",
   "execution_count": 5,
   "outputs": [],
   "source": [
    "train_labels = train_dataset_loader.get_labels_dataset()\n",
    "val_labels = val_dataset_loader.get_labels_dataset()"
   ],
   "metadata": {
    "collapsed": false,
    "ExecuteTime": {
     "start_time": "2023-05-09T18:19:53.450356Z",
     "end_time": "2023-05-09T18:19:53.521357Z"
    }
   }
  },
  {
   "cell_type": "code",
   "execution_count": 6,
   "outputs": [],
   "source": [
    "train_imgs = train_labels['image_name'].unique().tolist()\n",
    "val_imgs = val_labels['image_name'].unique().tolist()"
   ],
   "metadata": {
    "collapsed": false,
    "ExecuteTime": {
     "start_time": "2023-05-09T18:19:53.522356Z",
     "end_time": "2023-05-09T18:19:53.688856Z"
    }
   }
  },
  {
   "cell_type": "code",
   "execution_count": 7,
   "outputs": [
    {
     "data": {
      "text/plain": "['bike',\n 'bus',\n 'car',\n 'motor',\n 'person',\n 'rider',\n 'traffic light',\n 'traffic sign',\n 'train',\n 'truck']"
     },
     "execution_count": 7,
     "metadata": {},
     "output_type": "execute_result"
    }
   ],
   "source": [
    "classes = sorted(train_labels.label.unique().tolist())\n",
    "classes"
   ],
   "metadata": {
    "collapsed": false,
    "ExecuteTime": {
     "start_time": "2023-05-09T18:19:53.689358Z",
     "end_time": "2023-05-09T18:19:53.928357Z"
    }
   }
  },
  {
   "cell_type": "code",
   "execution_count": 8,
   "outputs": [
    {
     "data": {
      "text/plain": "[(0, 'bike'),\n (1, 'bus'),\n (2, 'car'),\n (3, 'motor'),\n (4, 'person'),\n (5, 'rider'),\n (6, 'traffic light'),\n (7, 'traffic sign'),\n (8, 'train'),\n (9, 'truck')]"
     },
     "execution_count": 8,
     "metadata": {},
     "output_type": "execute_result"
    }
   ],
   "source": [
    "classes_tuple = [(k, v) for k, v in enumerate(classes)]\n",
    "classes_tuple"
   ],
   "metadata": {
    "collapsed": false,
    "ExecuteTime": {
     "start_time": "2023-05-09T18:19:53.928856Z",
     "end_time": "2023-05-09T18:19:54.001358Z"
    }
   }
  },
  {
   "cell_type": "markdown",
   "source": [
    "Сохранение классов"
   ],
   "metadata": {
    "collapsed": false
   }
  },
  {
   "cell_type": "code",
   "execution_count": 9,
   "outputs": [],
   "source": [
    "classes_path = os.path.join(temp_dataset_folder, 'classes.csv')"
   ],
   "metadata": {
    "collapsed": false,
    "ExecuteTime": {
     "start_time": "2023-05-09T18:19:54.002356Z",
     "end_time": "2023-05-09T18:19:54.071856Z"
    }
   }
  },
  {
   "cell_type": "code",
   "execution_count": 10,
   "outputs": [],
   "source": [
    "pd.DataFrame.from_records(classes_tuple).to_csv(classes_path, index=False, header=False, sep='\\t')"
   ],
   "metadata": {
    "collapsed": false,
    "ExecuteTime": {
     "start_time": "2023-05-09T18:19:54.072358Z",
     "end_time": "2023-05-09T18:19:54.148358Z"
    }
   }
  },
  {
   "cell_type": "code",
   "execution_count": 11,
   "outputs": [
    {
     "data": {
      "text/plain": "   0              1\n0  0           bike\n1  1            bus\n2  2            car\n3  3          motor\n4  4         person\n5  5          rider\n6  6  traffic light\n7  7   traffic sign\n8  8          train\n9  9          truck",
      "text/html": "<div>\n<style scoped>\n    .dataframe tbody tr th:only-of-type {\n        vertical-align: middle;\n    }\n\n    .dataframe tbody tr th {\n        vertical-align: top;\n    }\n\n    .dataframe thead th {\n        text-align: right;\n    }\n</style>\n<table border=\"1\" class=\"dataframe\">\n  <thead>\n    <tr style=\"text-align: right;\">\n      <th></th>\n      <th>0</th>\n      <th>1</th>\n    </tr>\n  </thead>\n  <tbody>\n    <tr>\n      <th>0</th>\n      <td>0</td>\n      <td>bike</td>\n    </tr>\n    <tr>\n      <th>1</th>\n      <td>1</td>\n      <td>bus</td>\n    </tr>\n    <tr>\n      <th>2</th>\n      <td>2</td>\n      <td>car</td>\n    </tr>\n    <tr>\n      <th>3</th>\n      <td>3</td>\n      <td>motor</td>\n    </tr>\n    <tr>\n      <th>4</th>\n      <td>4</td>\n      <td>person</td>\n    </tr>\n    <tr>\n      <th>5</th>\n      <td>5</td>\n      <td>rider</td>\n    </tr>\n    <tr>\n      <th>6</th>\n      <td>6</td>\n      <td>traffic light</td>\n    </tr>\n    <tr>\n      <th>7</th>\n      <td>7</td>\n      <td>traffic sign</td>\n    </tr>\n    <tr>\n      <th>8</th>\n      <td>8</td>\n      <td>train</td>\n    </tr>\n    <tr>\n      <th>9</th>\n      <td>9</td>\n      <td>truck</td>\n    </tr>\n  </tbody>\n</table>\n</div>"
     },
     "execution_count": 11,
     "metadata": {},
     "output_type": "execute_result"
    }
   ],
   "source": [
    "pd.read_csv(classes_path, sep='\\t', header=None)  #Для проверки, что все ок, чтение"
   ],
   "metadata": {
    "collapsed": false,
    "ExecuteTime": {
     "start_time": "2023-05-09T18:19:54.149359Z",
     "end_time": "2023-05-09T18:19:54.224856Z"
    }
   }
  },
  {
   "cell_type": "code",
   "execution_count": 12,
   "outputs": [],
   "source": [
    "def save_yolo_labels(root_folder: str, imgs: List, labels: pd.DataFrame, classes: List):\n",
    "    if not os.path.exists(root_folder):\n",
    "        return\n",
    "\n",
    "    for img in tqdm(imgs):\n",
    "        ls_bbox = labels.loc[labels.image_name == img].drop(\"image_name\", axis=1).apply(lambda x: x.to_dict(),\n",
    "                                                                                        axis=1).to_list()\n",
    "        img_dim = Image.open(os.path.join(root_folder, img)).size\n",
    "        ls_out = []\n",
    "\n",
    "        for bbox in ls_bbox:\n",
    "            bbox_x = (bbox[\"x_min\"] + bbox[\"x_max\"]) / (2 * img_dim[0])\n",
    "            bbox_y = (bbox[\"y_min\"] + bbox[\"y_max\"]) / (2 * img_dim[1])\n",
    "            bbox_w = (bbox[\"x_max\"] - bbox[\"x_min\"]) / img_dim[0]\n",
    "            bbox_h = (bbox[\"y_max\"] - bbox[\"y_min\"]) / img_dim[1]\n",
    "            class_id = classes.index(bbox[\"label\"])\n",
    "            ls_out.append(\"{} {:.3f} {:.3f} {:.3f} {:.3f}\".format(class_id, bbox_x, bbox_y, bbox_w, bbox_h))\n",
    "\n",
    "        filename = os.path.join(root_folder, img.replace(\"jpg\", \"txt\"))\n",
    "        print(\"\\n\".join(ls_out), file=open(filename, \"w\"))\n",
    "\n",
    "\n",
    "def save_pytorch_labels(root_folder: str, imgs: List, labels: pd.DataFrame):\n",
    "    if not os.path.exists(root_folder):\n",
    "        return\n",
    "\n",
    "    prog_bar = tqdm(list(imgs))\n",
    "\n",
    "    for img in prog_bar:\n",
    "        prog_bar.set_description(f\"Current image: {img}\")\n",
    "\n",
    "        filepath = os.path.join(root_folder, img.replace(\"jpg\", \"csv\"))\n",
    "\n",
    "        if os.path.exists(filepath):\n",
    "            continue\n",
    "\n",
    "        filtered_labeles = labels.loc[labels.image_name == img].drop(\"image_name\", axis=1)\n",
    "        filtered_labeles.to_csv(os.path.join(root_folder, img.replace(\"jpg\", \"csv\")), index=False, sep=';')"
   ],
   "metadata": {
    "collapsed": false,
    "ExecuteTime": {
     "start_time": "2023-05-09T18:19:54.228856Z",
     "end_time": "2023-05-09T18:19:54.306856Z"
    }
   }
  },
  {
   "cell_type": "code",
   "execution_count": 13,
   "outputs": [
    {
     "data": {
      "text/plain": "  0%|          | 0/69863 [00:00<?, ?it/s]",
      "application/vnd.jupyter.widget-view+json": {
       "version_major": 2,
       "version_minor": 0,
       "model_id": "da2bc1b28e314dbdaf9e2dfce143b60c"
      }
     },
     "metadata": {},
     "output_type": "display_data"
    },
    {
     "name": "stderr",
     "output_type": "stream",
     "text": [
      "IOPub message rate exceeded.\n",
      "The notebook server will temporarily stop sending output\n",
      "to the client in order to avoid crashing it.\n",
      "To change this limit, set the config variable\n",
      "`--NotebookApp.iopub_msg_rate_limit`.\n",
      "\n",
      "Current values:\n",
      "NotebookApp.iopub_msg_rate_limit=1000.0 (msgs/sec)\n",
      "NotebookApp.rate_limit_window=3.0 (secs)\n",
      "\n",
      "IOPub message rate exceeded.\n",
      "The notebook server will temporarily stop sending output\n",
      "to the client in order to avoid crashing it.\n",
      "To change this limit, set the config variable\n",
      "`--NotebookApp.iopub_msg_rate_limit`.\n",
      "\n",
      "Current values:\n",
      "NotebookApp.iopub_msg_rate_limit=1000.0 (msgs/sec)\n",
      "NotebookApp.rate_limit_window=3.0 (secs)\n",
      "\n",
      "IOPub message rate exceeded.\n",
      "The notebook server will temporarily stop sending output\n",
      "to the client in order to avoid crashing it.\n",
      "To change this limit, set the config variable\n",
      "`--NotebookApp.iopub_msg_rate_limit`.\n",
      "\n",
      "Current values:\n",
      "NotebookApp.iopub_msg_rate_limit=1000.0 (msgs/sec)\n",
      "NotebookApp.rate_limit_window=3.0 (secs)\n",
      "\n",
      "IOPub message rate exceeded.\n",
      "The notebook server will temporarily stop sending output\n",
      "to the client in order to avoid crashing it.\n",
      "To change this limit, set the config variable\n",
      "`--NotebookApp.iopub_msg_rate_limit`.\n",
      "\n",
      "Current values:\n",
      "NotebookApp.iopub_msg_rate_limit=1000.0 (msgs/sec)\n",
      "NotebookApp.rate_limit_window=3.0 (secs)\n",
      "\n",
      "IOPub message rate exceeded.\n",
      "The notebook server will temporarily stop sending output\n",
      "to the client in order to avoid crashing it.\n",
      "To change this limit, set the config variable\n",
      "`--NotebookApp.iopub_msg_rate_limit`.\n",
      "\n",
      "Current values:\n",
      "NotebookApp.iopub_msg_rate_limit=1000.0 (msgs/sec)\n",
      "NotebookApp.rate_limit_window=3.0 (secs)\n",
      "\n"
     ]
    }
   ],
   "source": [
    "save_pytorch_labels(saving_train_dataset_folder, train_imgs, train_labels)"
   ],
   "metadata": {
    "collapsed": false,
    "ExecuteTime": {
     "start_time": "2023-05-09T18:20:01.851356Z",
     "end_time": "2023-05-09T18:45:20.646858Z"
    }
   }
  },
  {
   "cell_type": "code",
   "execution_count": 14,
   "outputs": [
    {
     "data": {
      "text/plain": "  0%|          | 0/10000 [00:00<?, ?it/s]",
      "application/vnd.jupyter.widget-view+json": {
       "version_major": 2,
       "version_minor": 0,
       "model_id": "bf93b3a32ee94888aaf91fa685785769"
      }
     },
     "metadata": {},
     "output_type": "display_data"
    }
   ],
   "source": [
    "save_pytorch_labels(saving_val_dataset_folder, val_imgs, val_labels)"
   ],
   "metadata": {
    "collapsed": false,
    "ExecuteTime": {
     "start_time": "2023-05-09T18:45:29.538857Z",
     "end_time": "2023-05-09T18:47:10.591856Z"
    }
   }
  },
  {
   "cell_type": "code",
   "execution_count": 15,
   "outputs": [],
   "source": [
    "def clean_unused_images(root_dir: str, used_images: List):\n",
    "    exist_imgs = [x for x in os.listdir(root_dir) if '.jpg' in x]\n",
    "    base_used_images = [os.path.basename(x).replace('.jpg', '') for x in used_images]\n",
    "\n",
    "    prog_bar = tqdm(list(exist_imgs))\n",
    "\n",
    "    for exists_img in prog_bar:\n",
    "\n",
    "        ex_basename = os.path.basename(exists_img).replace('.jpg', '')\n",
    "        prog_bar.set_description(f\"Current image: {ex_basename}\")\n",
    "\n",
    "        if ex_basename not in base_used_images:\n",
    "\n",
    "            path = os.path.join(root_dir, exists_img)\n",
    "\n",
    "            if os.path.exists(path):\n",
    "                os.remove(path)"
   ],
   "metadata": {
    "collapsed": false,
    "ExecuteTime": {
     "start_time": "2023-05-09T18:49:08.574857Z",
     "end_time": "2023-05-09T18:49:08.645857Z"
    }
   }
  },
  {
   "cell_type": "markdown",
   "source": [
    "Сохранение датасета для формата читаемым yolo"
   ],
   "metadata": {
    "collapsed": false
   }
  },
  {
   "cell_type": "code",
   "execution_count": null,
   "outputs": [],
   "source": [
    "save_yolo_labels(saving_train_dataset_folder, train_imgs, train_labels, classes)"
   ],
   "metadata": {
    "collapsed": false,
    "ExecuteTime": {
     "start_time": "2023-05-09T13:36:08.805409Z",
     "end_time": "2023-05-09T14:50:13.489358Z"
    }
   }
  },
  {
   "cell_type": "code",
   "execution_count": null,
   "outputs": [],
   "source": [
    "save_yolo_labels(saving_val_dataset_folder, val_imgs, val_labels, classes)"
   ],
   "metadata": {
    "collapsed": false,
    "ExecuteTime": {
     "start_time": "2023-05-09T15:06:17.118356Z",
     "end_time": "2023-05-09T15:08:48.341359Z"
    }
   }
  },
  {
   "cell_type": "markdown",
   "source": [
    "В датасете есть картинки где нет объектов с боксами, но есть сегментация дорог. Поэтому было принято их удалить"
   ],
   "metadata": {
    "collapsed": false
   }
  },
  {
   "cell_type": "code",
   "execution_count": null,
   "outputs": [],
   "source": [
    "clean_unused_images(saving_train_dataset_folder, train_imgs)"
   ],
   "metadata": {
    "collapsed": false,
    "ExecuteTime": {
     "start_time": "2023-05-09T14:59:47.682859Z",
     "end_time": "2023-05-09T15:00:14.673357Z"
    }
   }
  },
  {
   "cell_type": "code",
   "execution_count": null,
   "outputs": [],
   "source": [
    "clean_unused_images(saving_val_dataset_folder, val_imgs)"
   ],
   "metadata": {
    "collapsed": false,
    "ExecuteTime": {
     "start_time": "2023-05-09T15:05:52.510356Z",
     "end_time": "2023-05-09T15:05:53.226356Z"
    }
   }
  }
 ],
 "metadata": {
  "kernelspec": {
   "display_name": "Python 3",
   "language": "python",
   "name": "python3"
  },
  "language_info": {
   "codemirror_mode": {
    "name": "ipython",
    "version": 2
   },
   "file_extension": ".py",
   "mimetype": "text/x-python",
   "name": "python",
   "nbconvert_exporter": "python",
   "pygments_lexer": "ipython2",
   "version": "2.7.6"
  }
 },
 "nbformat": 4,
 "nbformat_minor": 0
}
