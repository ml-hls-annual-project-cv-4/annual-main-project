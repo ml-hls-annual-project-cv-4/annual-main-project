{
 "cells": [
  {
   "cell_type": "markdown",
   "source": [
    "### Установка требуемых пакетов"
   ],
   "metadata": {
    "collapsed": false
   }
  },
  {
   "cell_type": "code",
   "execution_count": null,
   "outputs": [],
   "source": [
    "!pip install -r requirements/yolo_training_req.txt"
   ],
   "metadata": {
    "collapsed": false,
    "ExecuteTime": {
     "start_time": "2023-06-22T16:06:44.521530Z",
     "end_time": "2023-06-22T16:06:46.828208Z"
    }
   }
  },
  {
   "cell_type": "markdown",
   "source": [
    "### Импорт пакетов"
   ],
   "metadata": {
    "collapsed": false
   }
  },
  {
   "cell_type": "code",
   "execution_count": null,
   "metadata": {
    "collapsed": true,
    "ExecuteTime": {
     "start_time": "2023-06-22T17:55:12.617081Z",
     "end_time": "2023-06-22T17:55:17.790532Z"
    }
   },
   "outputs": [],
   "source": [
    "from src.factoring.yolo_manager_factory import YoloManagerFactory\n",
    "import yaml\n",
    "from os import path"
   ]
  },
  {
   "cell_type": "markdown",
   "source": [
    "### Вспомогательные функции"
   ],
   "metadata": {
    "collapsed": false
   }
  },
  {
   "cell_type": "code",
   "execution_count": null,
   "outputs": [],
   "source": [
    "def extract_data(filepath):\n",
    "    with open(filepath) as f:\n",
    "        data = yaml.safe_load(f.read())\n",
    "\n",
    "    return data"
   ],
   "metadata": {
    "collapsed": false,
    "ExecuteTime": {
     "start_time": "2023-06-22T17:55:17.788534Z",
     "end_time": "2023-06-22T17:55:17.808178Z"
    }
   }
  },
  {
   "cell_type": "markdown",
   "source": [
    "### Вытаскивание папок"
   ],
   "metadata": {
    "collapsed": false
   }
  },
  {
   "cell_type": "code",
   "execution_count": null,
   "outputs": [],
   "source": [
    "yamls_path = path.join(\"..\", \"..\", \"yaml\")\n",
    "models_path = path.join(\"..\", \"..\", \"models\")"
   ],
   "metadata": {
    "collapsed": false,
    "ExecuteTime": {
     "start_time": "2023-06-22T17:55:17.803532Z",
     "end_time": "2023-06-22T17:55:17.821021Z"
    }
   }
  },
  {
   "cell_type": "markdown",
   "source": [
    "### Извлечение конфигов"
   ],
   "metadata": {
    "collapsed": false
   }
  },
  {
   "cell_type": "code",
   "execution_count": null,
   "outputs": [],
   "source": [
    "settings = extract_data(path.join(yamls_path, \"settings.yaml\")) #файл settings.yaml запросить отдельно и положить в соответствующий путь\n",
    "yolo_cfg = path.join(yamls_path, \"yolo_config.yaml\")\n",
    "\n",
    "hps_1 = extract_data(path.join(yamls_path, \"yolo_hyperparams_1.yaml\"))\n",
    "hps_2 = extract_data(path.join(yamls_path, \"yolo_hyperparams_2.yaml\"))"
   ],
   "metadata": {
    "collapsed": false,
    "ExecuteTime": {
     "start_time": "2023-06-22T17:55:17.819016Z",
     "end_time": "2023-06-22T17:55:17.832016Z"
    }
   }
  },
  {
   "cell_type": "markdown",
   "source": [
    "### Запуск обучения первой конфигурации модели"
   ],
   "metadata": {
    "collapsed": false
   }
  },
  {
   "cell_type": "code",
   "execution_count": null,
   "outputs": [],
   "source": [
    "yolo_mng = YoloManagerFactory.get_final_dl_manager(\"yolov8n.yaml\", settings)\n",
    "yolo_mng.train(yolo_cfg, hps_1)"
   ],
   "metadata": {
    "collapsed": false,
    "ExecuteTime": {
     "start_time": "2023-06-22T17:55:19.574658Z",
     "end_time": "2023-06-22T17:55:25.757733Z"
    }
   }
  },
  {
   "cell_type": "markdown",
   "source": [
    "### Запуск обучения второй конфигурации модели"
   ],
   "metadata": {
    "collapsed": false
   }
  },
  {
   "cell_type": "code",
   "execution_count": null,
   "outputs": [],
   "source": [
    "yolo_mng = YoloManagerFactory.get_final_dl_manager(\"yolov8n.yaml\", settings)\n",
    "yolo_mng.train(yolo_cfg, hps_2)"
   ],
   "metadata": {
    "collapsed": false
   }
  }
 ],
 "metadata": {
  "kernelspec": {
   "display_name": "Python 3",
   "language": "python",
   "name": "python3"
  },
  "language_info": {
   "codemirror_mode": {
    "name": "ipython",
    "version": 2
   },
   "file_extension": ".py",
   "mimetype": "text/x-python",
   "name": "python",
   "nbconvert_exporter": "python",
   "pygments_lexer": "ipython2",
   "version": "2.7.6"
  }
 },
 "nbformat": 4,
 "nbformat_minor": 0
}
